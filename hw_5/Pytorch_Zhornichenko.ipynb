{
 "cells": [
  {
   "attachments": {},
   "cell_type": "markdown",
   "metadata": {},
   "source": [
    "#### Higher school of econimics\n",
    "#### Name: Zhornichenko Ilya\n",
    "#### Gruop: TMSS"
   ]
  },
  {
   "cell_type": "code",
   "execution_count": 1,
   "metadata": {
    "collapsed": true
   },
   "outputs": [],
   "source": [
    "import numpy as np\n",
    "import pandas as pd\n",
    "import matplotlib.pyplot as plt\n",
    "import sys\n",
    "import warnings\n",
    "%matplotlib inline"
   ]
  },
  {
   "cell_type": "markdown",
   "metadata": {},
   "source": [
    "### About the challenge\n",
    "For starters, let's download the data from __[here](https://yadi.sk/d/vVEOWPFY3NruT7)__.\n",
    "\n",
    "You can also get it from the competition [page](https://www.kaggle.com/c/job-salary-prediction/data) (in that case, pick `Train_rev1.*`).\n",
    "\n",
    "\n",
    "Our task is to predict one number, __SalaryNormalized__, in the sense of minimizing __Mean Absolute Error__.\n",
    "\n",
    "<img src=\"https://storage.googleapis.com/kaggle-competitions/kaggle/3342/media/salary%20prediction%20engine%20v2.png\" width=400px>\n",
    "\n",
    "To do so, our model ca access a number of features:\n",
    "* Free text: __`Title`__ and  __`FullDescription`__\n",
    "* Categorical: __`Category`__, __`Company`__, __`LocationNormalized`__, __`ContractType`__, and __`ContractTime`__.\n",
    "\n",
    "\n",
    "You can read more [in the official description](https://www.kaggle.com/c/job-salary-prediction#description)."
   ]
  },
  {
   "cell_type": "code",
   "execution_count": null,
   "metadata": {},
   "outputs": [],
   "source": [
    "data = pd.read_csv(\"./Train_rev1.csv\", index_col=None)\n",
    "data['Log1pSalary'] = np.log1p(data['SalaryNormalized']).astype('float32')\n",
    "\n",
    "text_columns = [\"Title\", \"FullDescription\"]\n",
    "categorical_columns = [\"Category\", \"Company\", \"LocationNormalized\", \"ContractType\", \"ContractTime\"]\n",
    "target_column = \"Log1pSalary\"\n",
    "data[categorical_columns] = data[categorical_columns].fillna('NaN') # cast nan to string\n",
    "\n",
    "data.sample(3)"
   ]
  },
  {
   "cell_type": "markdown",
   "metadata": {},
   "source": [
    "### The NLP part\n",
    "\n",
    "To even begin training our neural network, we're gonna need to preprocess the text features: tokenize it and build the token vocabularies.\n",
    "\n",
    "Since it is not an NLP course, we're gonna use simple built-in NLTK tokenization."
   ]
  },
  {
   "cell_type": "code",
   "execution_count": 238,
   "metadata": {
    "collapsed": true
   },
   "outputs": [
    {
     "name": "stdout",
     "output_type": "stream",
     "text": [
      "Before\n",
      "0         Engineering Systems Analyst\n",
      "100000                   HR Assistant\n",
      "200000           Senior EC&I Engineer\n",
      "Name: Title, dtype: object\n"
     ]
    }
   ],
   "source": [
    "print(\"Before\")\n",
    "print(data[\"Title\"][::100000])"
   ]
  },
  {
   "cell_type": "code",
   "execution_count": 239,
   "metadata": {
    "collapsed": true
   },
   "outputs": [],
   "source": [
    "import nltk\n",
    "tokenizer = nltk.tokenize.WordPunctTokenizer()\n",
    "\n",
    "for col in text_columns:\n",
    "    data[col] = data[col].apply(lambda l: ' '.join(tokenizer.tokenize(str(l).lower())))"
   ]
  },
  {
   "cell_type": "markdown",
   "metadata": {},
   "source": [
    "Now we can assume that our text is a space-separated list of tokens:"
   ]
  },
  {
   "cell_type": "markdown",
   "metadata": {},
   "source": [
    "Not all words are equally useful. Some of them are typos or rare words that are only present a few times. \n",
    "\n",
    "Let's see how many times is each word present in the data so that we can build a \"white list\" of known words."
   ]
  },
  {
   "cell_type": "code",
   "execution_count": 241,
   "metadata": {
    "collapsed": true
   },
   "outputs": [],
   "source": [
    "from collections import Counter\n",
    "token_counts = Counter()\n",
    "\n",
    "# Count how many times does each token occur in \"Title\" and \"FullDescription\"\n",
    "\n",
    "# SOLVED\n",
    "_ = [token_counts.update(cell.split()) for column in text_columns for cell in data[column].values]\n"
   ]
  },
  {
   "cell_type": "code",
   "execution_count": 242,
   "metadata": {
    "collapsed": true
   },
   "outputs": [
    {
     "name": "stdout",
     "output_type": "stream",
     "text": [
      "Total unique tokens : 202704\n",
      "('and', 2657388)\n",
      "('.', 2523216)\n",
      "(',', 2318606)\n",
      "('the', 2080994)\n",
      "('to', 2019884)\n",
      "...\n",
      "('stephanietraveltraderecruitmnt', 1)\n",
      "('ruabon', 1)\n",
      "('lowehays', 1)\n",
      "Correct!\n"
     ]
    }
   ],
   "source": [
    "print(\"Total unique tokens :\", len(token_counts))\n",
    "print('\\n'.join(map(str, token_counts.most_common(n=5))))\n",
    "print('...')\n",
    "print('\\n'.join(map(str, token_counts.most_common()[-3:])))\n",
    "\n",
    "assert token_counts.most_common(1)[0][1] in  range(2600000, 2700000)\n",
    "assert len(token_counts) in range(200000, 210000)\n",
    "print('Correct!')"
   ]
  },
  {
   "cell_type": "code",
   "execution_count": 243,
   "metadata": {
    "collapsed": true
   },
   "outputs": [
    {
     "data": {
      "text/plain": [
       "Text(0.5, 0, 'Counts')"
      ]
     },
     "execution_count": 243,
     "metadata": {},
     "output_type": "execute_result"
    },
    {
     "data": {
      "image/png": "[encoded data removed]",
      "text/plain": [
       "<Figure size 640x480 with 1 Axes>"
      ]
     },
     "metadata": {},
     "output_type": "display_data"
    }
   ],
   "source": [
    "# Let's see how many words are there for each count\n",
    "\n",
    "_=plt.hist(list(token_counts.values()), range=[0, 10**4], bins=50, log=True)\n",
    "plt.xlabel(\"Counts\")"
   ]
  },
  {
   "cell_type": "markdown",
   "metadata": {},
   "source": [
    "__Task 1.1__ Get a list of all tokens that occur at least 10 times."
   ]
  },
  {
   "cell_type": "code",
   "execution_count": 244,
   "metadata": {
    "collapsed": true
   },
   "outputs": [],
   "source": [
    "min_count = 10\n",
    "\n",
    "# tokens from token_counts keys that had at least min_count occurrences throughout the dataset\n",
    "tokens = [token for token in token_counts if token_counts[token] >= min_count] # SOLVED\n",
    "\n",
    "# Add a special tokens for unknown and empty words\n",
    "UNK, PAD = \"UNK\", \"PAD\"\n",
    "tokens = [UNK, PAD] + tokens"
   ]
  },
  {
   "cell_type": "code",
   "execution_count": 245,
   "metadata": {
    "collapsed": true
   },
   "outputs": [
    {
     "name": "stdout",
     "output_type": "stream",
     "text": [
      "Tokens left: 34158\n",
      "Correct!\n"
     ]
    }
   ],
   "source": [
    "print(\"Tokens left:\", len(tokens))\n",
    "assert type(tokens)==list\n",
    "assert len(tokens) in range(32000,35000)\n",
    "assert 'me' in tokens\n",
    "assert UNK in tokens\n",
    "print(\"Correct!\")"
   ]
  },
  {
   "cell_type": "markdown",
   "metadata": {},
   "source": [
    "__Task 1.2__ Build an inverse token index: a dictionary from token(string) to it's index in `tokens` (int)"
   ]
  },
  {
   "cell_type": "code",
   "execution_count": 246,
   "metadata": {
    "collapsed": true
   },
   "outputs": [],
   "source": [
    "token_to_id = {token: id for id, token in enumerate(tokens)} # SOLVED"
   ]
  },
  {
   "cell_type": "code",
   "execution_count": 247,
   "metadata": {
    "collapsed": true
   },
   "outputs": [
    {
     "name": "stdout",
     "output_type": "stream",
     "text": [
      "Correct!\n"
     ]
    }
   ],
   "source": [
    "assert isinstance(token_to_id, dict)\n",
    "assert len(token_to_id) == len(tokens)\n",
    "for tok in tokens:\n",
    "    assert tokens[token_to_id[tok]] == tok\n",
    "\n",
    "print(\"Correct!\")"
   ]
  },
  {
   "cell_type": "markdown",
   "metadata": {},
   "source": [
    "And finally, let's use the vocabulary you've built to map text lines into torch-digestible matrices."
   ]
  },
  {
   "cell_type": "code",
   "execution_count": 248,
   "metadata": {
    "collapsed": true
   },
   "outputs": [],
   "source": [
    "UNK_IX, PAD_IX = map(token_to_id.get, [UNK, PAD])\n",
    "\n",
    "def as_matrix(sequences, max_len=None):\n",
    "    \"\"\" Convert a list of tokens into a matrix with padding \"\"\"\n",
    "    if isinstance(sequences[0], str):\n",
    "        sequences = list(map(str.split, sequences))\n",
    "        \n",
    "    max_len = min(max(map(len, sequences)), max_len or float('inf'))\n",
    "    \n",
    "    matrix = np.full((len(sequences), max_len), np.int32(PAD_IX))\n",
    "    for i,seq in enumerate(sequences):\n",
    "        row_ix = [token_to_id.get(word, UNK_IX) for word in seq[:max_len]]\n",
    "        matrix[i, :len(row_ix)] = row_ix\n",
    "    \n",
    "    return matrix"
   ]
  },
  {
   "cell_type": "code",
   "execution_count": 249,
   "metadata": {
    "collapsed": true
   },
   "outputs": [
    {
     "name": "stdout",
     "output_type": "stream",
     "text": [
      "engineering systems analyst\n",
      "hr assistant\n",
      "senior ec & i engineer\n",
      "\n",
      "Matrix:\n",
      "[[   2    3    4    1    1]\n",
      " [ 998  176    1    1    1]\n",
      " [  18 3472  242   59    6]]\n"
     ]
    }
   ],
   "source": [
    "#### print(\"Lines:\")\n",
    "print('\\n'.join(data[\"Title\"][::100000].values), end='\\n\\n')\n",
    "print(\"Matrix:\")\n",
    "print(as_matrix(data[\"Title\"][::100000]))"
   ]
  },
  {
   "cell_type": "markdown",
   "metadata": {},
   "source": [
    "Now let's  encode the categirical data we have.\n",
    "\n",
    "As usual, we shall use one-hot encoding for simplicity. Kudos if you implement tf-idf, target averaging or pseudo-counter-based encoding."
   ]
  },
  {
   "cell_type": "code",
   "execution_count": 250,
   "metadata": {
    "collapsed": true
   },
   "outputs": [
    {
     "data": {
      "text/html": [
       "<style>#sk-container-id-4 {color: black;background-color: white;}#sk-container-id-4 pre{padding: 0;}#sk-container-id-4 div.sk-toggleable {background-color: white;}#sk-container-id-4 label.sk-toggleable__label {cursor: pointer;display: block;width: 100%;margin-bottom: 0;padding: 0.3em;box-sizing: border-box;text-align: center;}#sk-container-id-4 label.sk-toggleable__label-arrow:before {content: \"▸\";float: left;margin-right: 0.25em;color: #696969;}#sk-container-id-4 label.sk-toggleable__label-arrow:hover:before {color: black;}#sk-container-id-4 div.sk-estimator:hover label.sk-toggleable__label-arrow:before {color: black;}#sk-container-id-4 div.sk-toggleable__content {max-height: 0;max-width: 0;overflow: hidden;text-align: left;background-color: #f0f8ff;}#sk-container-id-4 div.sk-toggleable__content pre {margin: 0.2em;color: black;border-radius: 0.25em;background-color: #f0f8ff;}#sk-container-id-4 input.sk-toggleable__control:checked~div.sk-toggleable__content {max-height: 200px;max-width: 100%;overflow: auto;}#sk-container-id-4 input.sk-toggleable__control:checked~label.sk-toggleable__label-arrow:before {content: \"▾\";}#sk-container-id-4 div.sk-estimator input.sk-toggleable__control:checked~label.sk-toggleable__label {background-color: #d4ebff;}#sk-container-id-4 div.sk-label input.sk-toggleable__control:checked~label.sk-toggleable__label {background-color: #d4ebff;}#sk-container-id-4 input.sk-hidden--visually {border: 0;clip: rect(1px 1px 1px 1px);clip: rect(1px, 1px, 1px, 1px);height: 1px;margin: -1px;overflow: hidden;padding: 0;position: absolute;width: 1px;}#sk-container-id-4 div.sk-estimator {font-family: monospace;background-color: #f0f8ff;border: 1px dotted black;border-radius: 0.25em;box-sizing: border-box;margin-bottom: 0.5em;}#sk-container-id-4 div.sk-estimator:hover {background-color: #d4ebff;}#sk-container-id-4 div.sk-parallel-item::after {content: \"\";width: 100%;border-bottom: 1px solid gray;flex-grow: 1;}#sk-container-id-4 div.sk-label:hover label.sk-toggleable__label {background-color: #d4ebff;}#sk-container-id-4 div.sk-serial::before {content: \"\";position: absolute;border-left: 1px solid gray;box-sizing: border-box;top: 0;bottom: 0;left: 50%;z-index: 0;}#sk-container-id-4 div.sk-serial {display: flex;flex-direction: column;align-items: center;background-color: white;padding-right: 0.2em;padding-left: 0.2em;position: relative;}#sk-container-id-4 div.sk-item {position: relative;z-index: 1;}#sk-container-id-4 div.sk-parallel {display: flex;align-items: stretch;justify-content: center;background-color: white;position: relative;}#sk-container-id-4 div.sk-item::before, #sk-container-id-4 div.sk-parallel-item::before {content: \"\";position: absolute;border-left: 1px solid gray;box-sizing: border-box;top: 0;bottom: 0;left: 50%;z-index: -1;}#sk-container-id-4 div.sk-parallel-item {display: flex;flex-direction: column;z-index: 1;position: relative;background-color: white;}#sk-container-id-4 div.sk-parallel-item:first-child::after {align-self: flex-end;width: 50%;}#sk-container-id-4 div.sk-parallel-item:last-child::after {align-self: flex-start;width: 50%;}#sk-container-id-4 div.sk-parallel-item:only-child::after {width: 0;}#sk-container-id-4 div.sk-dashed-wrapped {border: 1px dashed gray;margin: 0 0.4em 0.5em 0.4em;box-sizing: border-box;padding-bottom: 0.4em;background-color: white;}#sk-container-id-4 div.sk-label label {font-family: monospace;font-weight: bold;display: inline-block;line-height: 1.2em;}#sk-container-id-4 div.sk-label-container {text-align: center;}#sk-container-id-4 div.sk-container {/* jupyter's `normalize.less` sets `[hidden] { display: none; }` but bootstrap.min.css set `[hidden] { display: none !important; }` so we also need the `!important` here to be able to override the default hidden behavior on the sphinx rendered scikit-learn.org. See: https://github.com/scikit-learn/scikit-learn/issues/21755 */display: inline-block !important;position: relative;}#sk-container-id-4 div.sk-text-repr-fallback {display: none;}</style><div id=\"sk-container-id-4\" class=\"sk-top-container\"><div class=\"sk-text-repr-fallback\"><pre>DictVectorizer(dtype=&lt;class &#x27;numpy.float32&#x27;&gt;, sparse=False)</pre><b>In a Jupyter environment, please rerun this cell to show the HTML representation or trust the notebook. <br />On GitHub, the HTML representation is unable to render, please try loading this page with nbviewer.org.</b></div><div class=\"sk-container\" hidden><div class=\"sk-item\"><div class=\"sk-estimator sk-toggleable\"><input class=\"sk-toggleable__control sk-hidden--visually\" id=\"sk-estimator-id-4\" type=\"checkbox\" checked><label for=\"sk-estimator-id-4\" class=\"sk-toggleable__label sk-toggleable__label-arrow\">DictVectorizer</label><div class=\"sk-toggleable__content\"><pre>DictVectorizer(dtype=&lt;class &#x27;numpy.float32&#x27;&gt;, sparse=False)</pre></div></div></div></div></div>"
      ],
      "text/plain": [
       "DictVectorizer(dtype=<class 'numpy.float32'>, sparse=False)"
      ]
     },
     "execution_count": 250,
     "metadata": {},
     "output_type": "execute_result"
    }
   ],
   "source": [
    "from sklearn.feature_extraction import DictVectorizer\n",
    "\n",
    "# we only consider top-1k most frequent companies to minimize memory usage\n",
    "top_companies, top_counts = zip(*Counter(data['Company']).most_common(1000))\n",
    "recognized_companies = set(top_companies)\n",
    "data[\"Company\"] = data[\"Company\"].apply(lambda comp: comp if comp in recognized_companies else \"Other\")\n",
    "\n",
    "categorical_vectorizer = DictVectorizer(dtype=np.float32, sparse=False)\n",
    "categorical_vectorizer.fit(data[categorical_columns].apply(dict, axis=1))"
   ]
  },
  {
   "cell_type": "markdown",
   "metadata": {},
   "source": [
    "### The data science part\n",
    "\n",
    "Once we've learned to tokenize the data, let's design a machine learning experiment.\n",
    "\n",
    "As before, we won't focus too much on validation, opting for a simple train-test split.\n",
    "\n",
    "__To be completely rigorous,__ we've comitted a small crime here: we used the whole data for tokenization and vocabulary building. A more strict way would be to do that part on training set only. You may want to do that and measure the magnitude of changes."
   ]
  },
  {
   "cell_type": "code",
   "execution_count": 251,
   "metadata": {
    "collapsed": true
   },
   "outputs": [
    {
     "name": "stdout",
     "output_type": "stream",
     "text": [
      "Train size =  220291\n",
      "Validation size =  24477\n"
     ]
    }
   ],
   "source": [
    "from sklearn.model_selection import train_test_split\n",
    "\n",
    "data_train, data_val = train_test_split(data, test_size=0.1, random_state=42)\n",
    "\n",
    "print(\"Train size = \", len(data_train))\n",
    "print(\"Validation size = \", len(data_val))"
   ]
  },
  {
   "cell_type": "code",
   "execution_count": 252,
   "metadata": {
    "collapsed": true
   },
   "outputs": [],
   "source": [
    "def generate_batch(data, batch_size=None, replace=True, max_len=None):\n",
    "    \"\"\"\n",
    "    Creates a pytorch-friendly dict from the batch data.\n",
    "    :returns: a dict with {'title' : int64[batch, title_max_len]\n",
    "    \"\"\"\n",
    "    if batch_size is not None:\n",
    "        data = data.sample(batch_size, replace=replace)\n",
    "    \n",
    "    batch = {}\n",
    "    for col in text_columns:\n",
    "        batch[col] = as_matrix(data[col].values, max_len)\n",
    "    \n",
    "    batch['Categorical'] = categorical_vectorizer.transform(data[categorical_columns].apply(dict, axis=1))\n",
    "    \n",
    "    if target_column in data.columns:\n",
    "        batch[target_column] = data[target_column].values\n",
    "    \n",
    "    return batch"
   ]
  },
  {
   "cell_type": "code",
   "execution_count": 253,
   "metadata": {
    "collapsed": true
   },
   "outputs": [
    {
     "data": {
      "text/plain": [
       "{'Title': array([[  36,   88, 4075, 1599,    1,    1],\n",
       "        [ 141,  363,  684,  685,   15,  401],\n",
       "        [  25, 3883, 2371,    1,    1,    1]], dtype=int32),\n",
       " 'FullDescription': array([[   36,    88,  4075,  1599,    63,  5045,    15, 19321,    15,\n",
       "          1304],\n",
       "        [  369,   363,   684,   685,    15,   401,   110,  1464,   561,\n",
       "           190],\n",
       "        [   25,   313,  2371,    74,   179,  1069,  1041,  3884,  1527,\n",
       "          1166]], dtype=int32),\n",
       " 'Categorical': array([[0., 0., 0., ..., 0., 0., 0.],\n",
       "        [0., 0., 0., ..., 0., 0., 0.],\n",
       "        [0., 0., 0., ..., 0., 0., 0.]], dtype=float32),\n",
       " 'Log1pSalary': array([11.042938, 10.146473, 10.463132], dtype=float32)}"
      ]
     },
     "execution_count": 253,
     "metadata": {},
     "output_type": "execute_result"
    }
   ],
   "source": [
    "generate_batch(data_train, 3, max_len=10)"
   ]
  },
  {
   "cell_type": "markdown",
   "metadata": {},
   "source": [
    "### Finally, let's talk deep learning\n",
    "\n",
    "Out model consists of three branches:\n",
    "* Title encoder\n",
    "* Description encoder\n",
    "* Categorical features encoder\n",
    "\n",
    "We will then feed all 3 branches into one common network that predicts salary.\n",
    "\n",
    "![scheme](https://github.com/yandexdataschool/Practical_DL/raw/master/homework04/conv_salary_architecture.png)"
   ]
  },
  {
   "cell_type": "markdown",
   "metadata": {},
   "source": [
    "By default, both text vectorizers shall use 1d convolutions, followed by global pooling over time."
   ]
  },
  {
   "cell_type": "code",
   "execution_count": 254,
   "metadata": {
    "collapsed": true
   },
   "outputs": [],
   "source": [
    "import torch, torch.nn as nn\n",
    "import torch.nn.functional as F\n",
    "from torch.autograd import Variable\n",
    "\n",
    "class GlobalMaxPooling(nn.Module):\n",
    "    def __init__(self, dim=-1):\n",
    "        super(self.__class__, self).__init__()\n",
    "        self.dim = dim\n",
    "        \n",
    "    def forward(self, x):\n",
    "        return x.max(dim=self.dim)[0]"
   ]
  },
  {
   "cell_type": "code",
   "execution_count": 255,
   "metadata": {
    "collapsed": true
   },
   "outputs": [],
   "source": [
    "class TitleEncoder(nn.Module):\n",
    "    def __init__(self, n_tokens=len(tokens), out_size=64):\n",
    "        \"\"\" \n",
    "        A simple sequential encoder for titles.\n",
    "        x -> emb -> conv -> global_max -> relu -> dense\n",
    "        \"\"\"\n",
    "        super(TitleEncoder, self).__init__()\n",
    "        self.emb = nn.Embedding(n_tokens, out_size, padding_idx=PAD_IX)\n",
    "        self.conv1 = nn.Conv1d(out_size, out_size, kernel_size=3, padding=1)\n",
    "        self.pool1 = GlobalMaxPooling()        \n",
    "        self.dense = nn.Linear(out_size, out_size)\n",
    "\n",
    "    def forward(self, text_ix):\n",
    "        \"\"\"\n",
    "        :param text_ix: int64 Variable of shape [batch_size, max_len]\n",
    "        :returns: float32 Variable of shape [batch_size, out_size]\n",
    "        \"\"\"\n",
    "        h = self.emb(text_ix)\n",
    "\n",
    "        # we transpose from [batch, time, units] to [batch, units, time] to fit Conv1d dim order\n",
    "        h = torch.transpose(h, 1, 2)\n",
    "        \n",
    "        # Apply the layers as defined above. Add some ReLUs before dense.\n",
    "        return self.dense(F.relu(self.pool1(self.conv1(h)))) # SOLVED"
   ]
  },
  {
   "cell_type": "code",
   "execution_count": 256,
   "metadata": {
    "collapsed": true
   },
   "outputs": [
    {
     "name": "stdout",
     "output_type": "stream",
     "text": [
      "Seems fine\n"
     ]
    }
   ],
   "source": [
    "title_encoder = TitleEncoder(out_size=64)\n",
    "\n",
    "dummy_x = Variable(torch.LongTensor(generate_batch(data_train, 3)['Title']))\n",
    "dummy_v = title_encoder(dummy_x)\n",
    "\n",
    "assert isinstance(dummy_v, Variable)\n",
    "assert tuple(dummy_v.shape) == (dummy_x.shape[0], 64)\n",
    "\n",
    "del title_encoder\n",
    "print(\"Seems fine\")"
   ]
  },
  {
   "cell_type": "markdown",
   "metadata": {},
   "source": [
    "__Task 2.1__ Create description encoder"
   ]
  },
  {
   "cell_type": "code",
   "execution_count": 257,
   "metadata": {
    "collapsed": true
   },
   "outputs": [],
   "source": [
    "# Define an encoder for job descriptions.\n",
    "# Use any means you want so long as it's torch.nn.Module.\n",
    "\n",
    "# SOLVED\n",
    "class DescriptionEncoder(TitleEncoder):\n",
    "    def __init__(self, n_tokens=len(tokens), out_size=64):\n",
    "        super(DescriptionEncoder, self).__init__(n_tokens, out_size)"
   ]
  },
  {
   "cell_type": "code",
   "execution_count": 258,
   "metadata": {
    "collapsed": true
   },
   "outputs": [
    {
     "name": "stdout",
     "output_type": "stream",
     "text": [
      "Seems fine too\n"
     ]
    }
   ],
   "source": [
    "desc_encoder = DescriptionEncoder(out_size=64) # SOLVED\n",
    "\n",
    "dummy_x = Variable(torch.LongTensor(generate_batch(data_train, 3)['FullDescription']))\n",
    "dummy_v = desc_encoder(dummy_x)\n",
    "\n",
    "assert isinstance(dummy_v, Variable)\n",
    "assert tuple(dummy_v.shape) == (dummy_x.shape[0], 64)\n",
    "del desc_encoder\n",
    "print(\"Seems fine too\")"
   ]
  },
  {
   "cell_type": "markdown",
   "metadata": {},
   "source": [
    "**Task 2.2** Build one network ~~to rule them all~~"
   ]
  },
  {
   "cell_type": "code",
   "execution_count": 259,
   "metadata": {
    "collapsed": true
   },
   "outputs": [],
   "source": [
    "class FullNetwork(nn.Module):\n",
    "    \"\"\"\n",
    "    This class does all the steps from (title, desc, categorical) features -> predicted target\n",
    "    It unites title & desc encoders you defined above as long as some layers for head and categorical branch.\n",
    "    \"\"\"\n",
    "    \n",
    "    def __init__(self, n_tokens=len(tokens), n_cat_features=len(categorical_vectorizer.vocabulary_)):\n",
    "        super(self.__class__, self).__init__()\n",
    "        \n",
    "        self.title_encoder = TitleEncoder(n_tokens=n_tokens, out_size=64)\n",
    "        self.desc_encoder = DescriptionEncoder(n_tokens=n_tokens, out_size=64)\n",
    "\n",
    "        k0, k1, k2 = [64, 8, 32]\n",
    "\n",
    "        # define layers for categorical features. A few dense layers would do.\n",
    "        self.categorial_encoder = \\\n",
    "            nn.Sequential(\n",
    "                nn.Linear(n_cat_features, k0),\n",
    "                nn.ReLU(),\n",
    "                nn.Linear(k0, k1)\n",
    "            )\n",
    "        \n",
    "        # define \"output\" layers that process depend the three encoded vectors into answer\n",
    "        self.output = \\\n",
    "            nn.Sequential(\n",
    "                nn.Linear(2 * k0 + k1, k2),\n",
    "                nn.ReLU(),\n",
    "                nn.Linear(k2, 1)\n",
    "            )\n",
    "            \n",
    "        \n",
    "    def forward(self, title_ix, desc_ix, cat_features):\n",
    "        \"\"\"\n",
    "        :param title_ix: int32 Variable [batch, title_len], job titles encoded by as_matrix\n",
    "        :param desc_ix:  int32 Variable [batch, desc_len] , job descriptions encoded by as_matrix\n",
    "        :param cat_features: float32 Variable [batch, n_cat_features]\n",
    "        :returns: float32 Variable 1d [batch], predicted log1p-salary\n",
    "        \"\"\"\n",
    "        \n",
    "        # process each data source with it's respective encoder\n",
    "        title_h = self.title_encoder(title_ix)\n",
    "        desc_h = self.desc_encoder(desc_ix) # SOLVED\n",
    "        \n",
    "        # apply categorical encoder\n",
    "        cat_h = self.categorial_encoder(cat_features) # SOLVED\n",
    "        \n",
    "        # concatenate all vectors together...\n",
    "        joint_h = torch.cat([title_h, desc_h, cat_h], dim=1)\n",
    "        \n",
    "        # ... and stack a few more layers at the top\n",
    "        res = self.output(joint_h)\n",
    "        \n",
    "        # Note 1: do not forget to select first columns, [:, 0], to get to 1d outputs\n",
    "        # Note 2: please do not use output nonlinearities.\n",
    "        \n",
    "        return res[:, 0]"
   ]
  },
  {
   "cell_type": "code",
   "execution_count": 260,
   "metadata": {
    "collapsed": true
   },
   "outputs": [],
   "source": [
    "model = FullNetwork()\n",
    "opt = torch.optim.Adam(model.parameters(), lr=1e-3)"
   ]
  },
  {
   "cell_type": "code",
   "execution_count": 261,
   "metadata": {
    "collapsed": true
   },
   "outputs": [],
   "source": [
    "# test it on one batch\n",
    "\n",
    "batch = generate_batch(data_train, 32)\n",
    "\n",
    "title_ix = Variable(torch.LongTensor(batch[\"Title\"]))\n",
    "desc_ix = Variable(torch.LongTensor(batch[\"FullDescription\"]))\n",
    "cat_features = Variable(torch.FloatTensor(batch[\"Categorical\"]))\n",
    "reference = Variable(torch.FloatTensor(batch[target_column]))\n",
    "\n",
    "prediction = model(title_ix, desc_ix, cat_features)\n",
    "\n",
    "assert len(prediction.shape) == 1 and prediction.shape[0] == title_ix.shape[0]"
   ]
  },
  {
   "cell_type": "code",
   "execution_count": 262,
   "metadata": {
    "collapsed": true
   },
   "outputs": [],
   "source": [
    "def compute_loss(reference, prediction):\n",
    "    \"\"\"\n",
    "    Computes objective for minimization.\n",
    "    By deafult we minimize MSE, but you are encouraged to try mix up MSE, MAE, huber loss, etc.\n",
    "    \"\"\"\n",
    "    return torch.mean((prediction - reference) ** 2)\n",
    "\n",
    "def compute_mae(reference, prediction):\n",
    "    \"\"\" Compute MAE on actual salary, assuming your model outputs log1p(salary)\"\"\"\n",
    "    return torch.abs(torch.exp(reference - 1) - torch.exp(prediction - 1)).mean()"
   ]
  },
  {
   "cell_type": "code",
   "execution_count": 263,
   "metadata": {
    "collapsed": true
   },
   "outputs": [],
   "source": [
    "loss = compute_loss(reference, prediction)\n",
    "dummy_grads = torch.autograd.grad(loss, model.parameters(), retain_graph=True)\n",
    "for grad in dummy_grads:\n",
    "    assert grad is not None and not (grad == 0).all(), \"Some model parameters received zero grads. \" \\\n",
    "                                                       \"Double-check that your model uses all it's layers.\""
   ]
  },
  {
   "cell_type": "markdown",
   "metadata": {},
   "source": [
    "### Let's train it!"
   ]
  },
  {
   "cell_type": "code",
   "execution_count": 264,
   "metadata": {
    "collapsed": true
   },
   "outputs": [],
   "source": [
    "def iterate_minibatches(data, batch_size=32, max_len=None,\n",
    "                        max_batches=None, shuffle=True, verbose=True):\n",
    "    indices = np.arange(len(data))\n",
    "    if shuffle:\n",
    "        indices = np.random.permutation(indices)\n",
    "    if max_batches is not None:\n",
    "        indices = indices[: batch_size * max_batches]\n",
    "        \n",
    "    for start in range(0, len(indices), batch_size):\n",
    "        yield generate_batch(data.iloc[indices[start : start + batch_size]], max_len=max_len)"
   ]
  },
  {
   "cell_type": "code",
   "execution_count": 265,
   "metadata": {
    "collapsed": true
   },
   "outputs": [],
   "source": [
    "num_epochs = 25\n",
    "max_len = 100\n",
    "batch_size = 32\n",
    "batches_per_epoch = 100"
   ]
  },
  {
   "cell_type": "code",
   "execution_count": 266,
   "metadata": {
    "collapsed": true
   },
   "outputs": [
    {
     "name": "stdout",
     "output_type": "stream",
     "text": [
      "Training:\n",
      "\tLoss:\t14.95452\n",
      "\tMAE:\t28056.61031\n",
      "\n",
      "\n",
      "\n",
      "Validation:\n",
      "\tLoss:\t0.67482\n",
      "\tMAE:\t7505.43595\n",
      "\n",
      "\n",
      "\n",
      "Training:\n",
      "\tLoss:\t0.58128\n",
      "\tMAE:\t7017.61615\n",
      "\n",
      "\n",
      "\n",
      "Validation:\n",
      "\tLoss:\t0.51769\n",
      "\tMAE:\t7542.04366\n",
      "\n",
      "\n",
      "\n",
      "Training:\n",
      "\tLoss:\t0.45191\n",
      "\tMAE:\t6144.18746\n",
      "\n",
      "\n",
      "\n",
      "Validation:\n",
      "\tLoss:\t0.38116\n",
      "\tMAE:\t5451.84203\n",
      "\n",
      "\n",
      "\n",
      "Training:\n",
      "\tLoss:\t0.34892\n",
      "\tMAE:\t5464.59768\n",
      "\n",
      "\n",
      "\n",
      "Validation:\n",
      "\tLoss:\t0.31147\n",
      "\tMAE:\t5007.00617\n",
      "\n",
      "\n",
      "\n",
      "Training:\n",
      "\tLoss:\t0.29904\n",
      "\tMAE:\t5073.96930\n",
      "\n",
      "\n",
      "\n",
      "Validation:\n",
      "\tLoss:\t0.27461\n",
      "\tMAE:\t4958.59484\n",
      "\n",
      "\n",
      "\n",
      "Training:\n",
      "\tLoss:\t0.26804\n",
      "\tMAE:\t4643.35490\n",
      "\n",
      "\n",
      "\n",
      "Validation:\n",
      "\tLoss:\t0.24763\n",
      "\tMAE:\t4493.46327\n",
      "\n",
      "\n",
      "\n",
      "Training:\n",
      "\tLoss:\t0.24305\n",
      "\tMAE:\t4510.85449\n",
      "\n",
      "\n",
      "\n",
      "Validation:\n",
      "\tLoss:\t0.23459\n",
      "\tMAE:\t4670.85953\n",
      "\n",
      "\n",
      "\n",
      "Training:\n",
      "\tLoss:\t0.21939\n",
      "\tMAE:\t4279.56183\n",
      "\n",
      "\n",
      "\n",
      "Validation:\n",
      "\tLoss:\t0.21623\n",
      "\tMAE:\t4463.71594\n",
      "\n",
      "\n",
      "\n",
      "Training:\n",
      "\tLoss:\t0.21554\n",
      "\tMAE:\t4287.64353\n",
      "\n",
      "\n",
      "\n",
      "Validation:\n",
      "\tLoss:\t0.20287\n",
      "\tMAE:\t3998.31778\n",
      "\n",
      "\n",
      "\n",
      "Training:\n",
      "\tLoss:\t0.20055\n",
      "\tMAE:\t4131.77413\n",
      "\n",
      "\n",
      "\n",
      "Validation:\n",
      "\tLoss:\t0.18682\n",
      "\tMAE:\t3942.04509\n",
      "\n",
      "\n",
      "\n",
      "Training:\n",
      "\tLoss:\t0.18746\n",
      "\tMAE:\t3982.42675\n",
      "\n",
      "\n",
      "\n",
      "Validation:\n",
      "\tLoss:\t0.17817\n",
      "\tMAE:\t3837.67348\n",
      "\n",
      "\n",
      "\n",
      "Training:\n",
      "\tLoss:\t0.18525\n",
      "\tMAE:\t3842.58107\n",
      "\n",
      "\n",
      "\n",
      "Validation:\n",
      "\tLoss:\t0.16940\n",
      "\tMAE:\t3784.06820\n",
      "\n",
      "\n",
      "\n",
      "Training:\n",
      "\tLoss:\t0.17277\n",
      "\tMAE:\t3895.26407\n",
      "\n",
      "\n",
      "\n",
      "Validation:\n",
      "\tLoss:\t0.17387\n",
      "\tMAE:\t4099.12838\n",
      "\n",
      "\n",
      "\n",
      "Training:\n",
      "\tLoss:\t0.15757\n",
      "\tMAE:\t3626.65972\n",
      "\n",
      "\n",
      "\n",
      "Validation:\n",
      "\tLoss:\t0.15746\n",
      "\tMAE:\t3639.28721\n",
      "\n",
      "\n",
      "\n",
      "Training:\n",
      "\tLoss:\t0.17223\n",
      "\tMAE:\t3958.72578\n",
      "\n",
      "\n",
      "\n",
      "Validation:\n",
      "\tLoss:\t0.16963\n",
      "\tMAE:\t4118.58122\n",
      "\n",
      "\n",
      "\n",
      "Training:\n",
      "\tLoss:\t0.16554\n",
      "\tMAE:\t3827.50841\n",
      "\n",
      "\n",
      "\n",
      "Validation:\n",
      "\tLoss:\t0.14633\n",
      "\tMAE:\t3596.36804\n",
      "\n",
      "\n",
      "\n",
      "Training:\n",
      "\tLoss:\t0.14375\n",
      "\tMAE:\t3585.77359\n",
      "\n",
      "\n",
      "\n",
      "Validation:\n",
      "\tLoss:\t0.15430\n",
      "\tMAE:\t3532.72748\n",
      "\n",
      "\n",
      "\n",
      "Training:\n",
      "\tLoss:\t0.14746\n",
      "\tMAE:\t3623.08036\n",
      "\n",
      "\n",
      "\n",
      "Validation:\n",
      "\tLoss:\t0.14004\n",
      "\tMAE:\t3553.10067\n",
      "\n",
      "\n",
      "\n",
      "Training:\n",
      "\tLoss:\t0.16008\n",
      "\tMAE:\t3822.33551\n",
      "\n",
      "\n",
      "\n",
      "Validation:\n",
      "\tLoss:\t0.15162\n",
      "\tMAE:\t3530.09654\n",
      "\n",
      "\n",
      "\n",
      "Training:\n",
      "\tLoss:\t0.12916\n",
      "\tMAE:\t3405.58363\n",
      "\n",
      "\n",
      "\n",
      "Validation:\n",
      "\tLoss:\t0.14195\n",
      "\tMAE:\t3429.83422\n",
      "\n",
      "\n",
      "\n",
      "Training:\n",
      "\tLoss:\t0.14607\n",
      "\tMAE:\t3568.13977\n",
      "\n",
      "\n",
      "\n",
      "Validation:\n",
      "\tLoss:\t0.13248\n",
      "\tMAE:\t3359.75387\n",
      "\n",
      "\n",
      "\n",
      "Training:\n",
      "\tLoss:\t0.12971\n",
      "\tMAE:\t3410.36966\n",
      "\n",
      "\n",
      "\n",
      "Validation:\n",
      "\tLoss:\t0.13412\n",
      "\tMAE:\t3351.45409\n",
      "\n",
      "\n",
      "\n",
      "Training:\n",
      "\tLoss:\t0.12804\n",
      "\tMAE:\t3329.76675\n",
      "\n",
      "\n",
      "\n",
      "Validation:\n",
      "\tLoss:\t0.12744\n",
      "\tMAE:\t3466.36905\n",
      "\n",
      "\n",
      "\n",
      "Training:\n",
      "\tLoss:\t0.12669\n",
      "\tMAE:\t3384.03368\n",
      "\n",
      "\n",
      "\n",
      "Validation:\n",
      "\tLoss:\t0.12115\n",
      "\tMAE:\t3308.02019\n",
      "\n",
      "\n",
      "\n",
      "Training:\n",
      "\tLoss:\t0.12084\n",
      "\tMAE:\t3264.13539\n",
      "\n",
      "\n",
      "\n",
      "Validation:\n",
      "\tLoss:\t0.12461\n",
      "\tMAE:\t3432.56432\n",
      "\n",
      "\n",
      "\n"
     ]
    }
   ],
   "source": [
    "import sys\n",
    "\n",
    "for epoch_i in range(num_epochs):\n",
    "    print(\"Training:\")\n",
    "    train_loss = train_mae = train_batches = 0    \n",
    "    model.train(True)\n",
    "    \n",
    "    for batch in iterate_minibatches(data_train, max_batches=batches_per_epoch):\n",
    "\n",
    "        title_ix = Variable(torch.LongTensor(batch[\"Title\"]))\n",
    "        desc_ix = Variable(torch.LongTensor(batch[\"FullDescription\"]))\n",
    "        cat_features = Variable(torch.FloatTensor(batch[\"Categorical\"]))\n",
    "        reference = Variable(torch.FloatTensor(batch[target_column]))\n",
    "\n",
    "        prediction = model(title_ix, desc_ix, cat_features)\n",
    "\n",
    "        loss = compute_loss(reference, prediction)\n",
    "        loss.backward()\n",
    "        opt.step()\n",
    "        opt.zero_grad()\n",
    "\n",
    "        train_loss += loss.data.numpy()\n",
    "        train_mae += compute_mae(reference, prediction).data.numpy()\n",
    "        train_batches += 1\n",
    "    \n",
    "    print(\"\\tLoss:\\t%.5f\" % (train_loss / train_batches))\n",
    "    print(\"\\tMAE:\\t%.5f\" % (train_mae / train_batches))\n",
    "    print('\\n\\n')\n",
    "    \n",
    "    print(\"Validation:\")\n",
    "    val_loss = val_mae = val_batches = 0\n",
    "    model.train(False)\n",
    "    \n",
    "    with torch.no_grad():\n",
    "        for batch in iterate_minibatches(data_val, shuffle=False):\n",
    "            title_ix = Variable(torch.LongTensor(batch[\"Title\"]))\n",
    "            desc_ix = Variable(torch.LongTensor(batch[\"FullDescription\"]))\n",
    "            cat_features = Variable(torch.FloatTensor(batch[\"Categorical\"]))\n",
    "            reference = Variable(torch.FloatTensor(batch[target_column]))\n",
    "\n",
    "            prediction = model(title_ix, desc_ix, cat_features)\n",
    "            loss = compute_loss(reference, prediction)\n",
    "\n",
    "            val_loss += loss.data.numpy()\n",
    "            val_mae += compute_mae(reference, prediction).data.numpy()\n",
    "            val_batches += 1\n",
    "\n",
    "    print(\"\\tLoss:\\t%.5f\" % (val_loss / val_batches))\n",
    "    print(\"\\tMAE:\\t%.5f\" % (val_mae / val_batches))\n",
    "    print('\\n\\n')\n",
    "    sys.stdout.flush()"
   ]
  },
  {
   "cell_type": "code",
   "execution_count": 267,
   "metadata": {
    "collapsed": true
   },
   "outputs": [
    {
     "name": "stdout",
     "output_type": "stream",
     "text": [
      "Final eval:\n",
      "\tLoss:\t0.12461\n",
      "\tMAE:\t3432.56432\n",
      "\n",
      "\n",
      "\n"
     ]
    }
   ],
   "source": [
    "import sys\n",
    "\n",
    "print(\"Final eval:\")\n",
    "val_loss = val_mae = val_batches = 0\n",
    "\n",
    "with torch.no_grad():\n",
    "    for batch in iterate_minibatches(data_val, shuffle=False):\n",
    "        title_ix = Variable(torch.LongTensor(batch[\"Title\"]))\n",
    "        desc_ix = Variable(torch.LongTensor(batch[\"FullDescription\"]))\n",
    "        cat_features = Variable(torch.FloatTensor(batch[\"Categorical\"]))\n",
    "        reference = Variable(torch.FloatTensor(batch[target_column]))\n",
    "\n",
    "        prediction = model(title_ix, desc_ix, cat_features)\n",
    "        loss = compute_loss(reference, prediction)\n",
    "\n",
    "        val_loss += loss.data.numpy()\n",
    "        val_mae += compute_mae(reference, prediction).data.numpy()\n",
    "        val_batches += 1\n",
    "\n",
    "print(\"\\tLoss:\\t%.5f\" % (val_loss / val_batches))\n",
    "print(\"\\tMAE:\\t%.5f\" % (val_mae / val_batches))\n",
    "print('\\n\\n')\n",
    "sys.stdout.flush()"
   ]
  },
  {
   "cell_type": "markdown",
   "metadata": {},
   "source": [
    "### Task 3.2: Actually make it work\n",
    "\n",
    "Your main task is to use some of the tricks you've learned on the network and analyze if you can improve __validation MAE__.\n",
    "\n",
    "Try __at least 3 options__ from the list below for a passing grade. If you're into \n",
    "\n",
    "#### A) CNN architecture\n",
    "\n",
    "All the tricks you know about dense and convolutional neural networks apply here as well.\n",
    "* Dropout. Nuff said.\n",
    "* Batch Norm. This time it's `nn.BatchNorm1d`\n",
    "* Parallel convolution layers. The idea is that you apply several nn.Conv1d to the same embeddings and concatenate output channels.\n",
    "* More layers, more neurons, ya know...\n",
    "\n",
    "\n",
    "#### B) Play with pooling\n",
    "\n",
    "There's more than one way to do max pooling:\n",
    "* Max over time - our `GlobalMaxPooling`\n",
    "* Average over time (excluding PAD)\n",
    "* Softmax-pooling:\n",
    "$$ out_{i, t} = \\sum_t {h_{i,t} \\cdot {{e ^ {h_{i, t}}} \\over \\sum_\\tau e ^ {h_{j, \\tau}} } }$$\n",
    "\n",
    "* Attentive pooling\n",
    "$$ out_{i, t} = \\sum_t {h_{i,t} \\cdot Attn(h_t)}$$\n",
    "\n",
    ", where $$ Attn(h_t) = {{e ^ {NN_{attn}(h_t)}} \\over \\sum_\\tau e ^ {NN_{attn}(h_\\tau)}}  $$\n",
    "and $NN_{attn}$ is a small neural network\n",
    "\n",
    "\n",
    "The optimal score is usually achieved by concatenating several different poolings, including several attentive pooling with different $NN_{attn}$\n",
    "\n",
    "#### C) Fun with embeddings\n",
    "\n",
    "It's not always a good idea to train embeddings from scratch. Here's a few tricks:\n",
    "\n",
    "* Use a pre-trained word2vec from [here](http://ahogrammer.com/2017/01/20/the-list-of-pretrained-word-embeddings/) or [here](http://mccormickml.com/2016/04/12/googles-pretrained-word2vec-model-in-python/).\n",
    "* Start with pre-trained embeddings, then fine-tune them with gradient descent\n",
    "* Use the same embedding matrix in title and desc vectorizer\n",
    "\n",
    "#### D) Going recurrent\n",
    "\n",
    "We've already learned that recurrent networks can do cool stuff in sequence modelling. Turns out, they're not useless for classification as well. With some tricks of course..\n",
    "\n",
    "* Like convolutional layers, LSTM should be pooled into a fixed-size vector with some of the poolings.\n",
    "  * Please bear in mind that while convolution uses [batch, units, time] dim order, \n",
    "    recurrent units are built for [batch, time, unit]. You may need to `torch.transpose`.\n",
    "\n",
    "* Since you know all the text in advance, use bidirectional RNN\n",
    "  * Run one LSTM from left to right\n",
    "  * Run another in parallel from right to left \n",
    "  * Concatenate their output sequences along unit axis (dim=-1)\n",
    "\n",
    "* It might be good idea to mix convolutions and recurrent layers differently for title and description\n",
    "\n",
    "\n",
    "#### E) Optimizing seriously\n",
    "\n",
    "* You don't necessarily need 100 epochs. Use early stopping. If you've never done this before, take a look at [keras](https://github.com/keras-team/keras/blob/master/keras/callbacks.py#L461) for inspiration.\n",
    "  * In short, train until you notice that validation\n",
    "  * Maintain the best-on-validation snapshot via `model.state_dict`\n",
    "  * Plotting learning curves is usually a good idea"
   ]
  },
  {
   "cell_type": "code",
   "execution_count": 268,
   "metadata": {
    "collapsed": true
   },
   "outputs": [
    {
     "name": "stdout",
     "output_type": "stream",
     "text": [
      "Training:\n",
      "\tLoss:\t0.12284\n",
      "\tMAE:\t3341.40939\n",
      "\n",
      "\n",
      "\n",
      "Validation:\n",
      "\tLoss:\t0.11709\n",
      "\tMAE:\t3208.56430\n",
      "\n",
      "\n",
      "\n",
      "Training:\n",
      "\tLoss:\t0.11781\n",
      "\tMAE:\t3298.91867\n",
      "\n",
      "\n",
      "\n",
      "Validation:\n",
      "\tLoss:\t0.13951\n",
      "\tMAE:\t3399.89364\n",
      "\n",
      "\n",
      "\n",
      "Training:\n",
      "\tLoss:\t0.10978\n",
      "\tMAE:\t3254.43876\n",
      "\n",
      "\n",
      "\n",
      "Validation:\n",
      "\tLoss:\t0.11378\n",
      "\tMAE:\t3151.06254\n",
      "\n",
      "\n",
      "\n",
      "Training:\n",
      "\tLoss:\t0.11291\n",
      "\tMAE:\t3135.57545\n",
      "\n",
      "\n",
      "\n",
      "Validation:\n",
      "\tLoss:\t0.11161\n",
      "\tMAE:\t3195.16386\n",
      "\n",
      "\n",
      "\n",
      "Training:\n",
      "\tLoss:\t0.10405\n",
      "\tMAE:\t3083.41569\n",
      "\n",
      "\n",
      "\n",
      "Validation:\n",
      "\tLoss:\t0.14044\n",
      "\tMAE:\t3428.48277\n",
      "\n",
      "\n",
      "\n",
      "Training:\n",
      "\tLoss:\t0.12576\n",
      "\tMAE:\t3510.15492\n",
      "\n",
      "\n",
      "\n",
      "Validation:\n",
      "\tLoss:\t0.11344\n",
      "\tMAE:\t3258.52838\n",
      "\n",
      "\n",
      "\n",
      "Training:\n",
      "\tLoss:\t0.11418\n",
      "\tMAE:\t3154.95847\n",
      "\n",
      "\n",
      "\n",
      "Validation:\n",
      "\tLoss:\t0.10709\n",
      "\tMAE:\t3112.08432\n",
      "\n",
      "\n",
      "\n",
      "Training:\n",
      "\tLoss:\t0.10708\n",
      "\tMAE:\t3116.43287\n",
      "\n",
      "\n",
      "\n",
      "Validation:\n",
      "\tLoss:\t0.11809\n",
      "\tMAE:\t3390.99241\n",
      "\n",
      "\n",
      "\n",
      "Training:\n",
      "\tLoss:\t0.11201\n",
      "\tMAE:\t3091.42921\n",
      "\n",
      "\n",
      "\n",
      "Validation:\n",
      "\tLoss:\t0.10478\n",
      "\tMAE:\t3074.59824\n",
      "\n",
      "\n",
      "\n",
      "Training:\n",
      "\tLoss:\t0.11176\n",
      "\tMAE:\t3148.57430\n",
      "\n",
      "\n",
      "\n",
      "Validation:\n",
      "\tLoss:\t0.10341\n",
      "\tMAE:\t3036.20302\n",
      "\n",
      "\n",
      "\n",
      "Training:\n",
      "\tLoss:\t0.10930\n",
      "\tMAE:\t3075.86352\n",
      "\n",
      "\n",
      "\n",
      "Validation:\n",
      "\tLoss:\t0.10275\n",
      "\tMAE:\t3058.50145\n",
      "\n",
      "\n",
      "\n",
      "Training:\n",
      "\tLoss:\t0.09988\n",
      "\tMAE:\t3089.95788\n",
      "\n",
      "\n",
      "\n",
      "Validation:\n",
      "\tLoss:\t0.10247\n",
      "\tMAE:\t3014.10114\n",
      "\n",
      "\n",
      "\n",
      "Training:\n",
      "\tLoss:\t0.09656\n",
      "\tMAE:\t2992.22018\n",
      "\n",
      "\n",
      "\n",
      "Validation:\n",
      "\tLoss:\t0.11836\n",
      "\tMAE:\t3459.76908\n",
      "\n",
      "\n",
      "\n",
      "Training:\n",
      "\tLoss:\t0.10367\n",
      "\tMAE:\t3056.28208\n",
      "\n",
      "\n",
      "\n",
      "Validation:\n",
      "\tLoss:\t0.10012\n",
      "\tMAE:\t2992.36870\n",
      "\n",
      "\n",
      "\n",
      "Training:\n",
      "\tLoss:\t0.09680\n",
      "\tMAE:\t2979.29591\n",
      "\n",
      "\n",
      "\n",
      "Validation:\n",
      "\tLoss:\t0.10005\n",
      "\tMAE:\t3031.14305\n",
      "\n",
      "\n",
      "\n",
      "Training:\n",
      "\tLoss:\t0.09168\n",
      "\tMAE:\t2920.43454\n",
      "\n",
      "\n",
      "\n",
      "Validation:\n",
      "\tLoss:\t0.10216\n",
      "\tMAE:\t2988.99779\n",
      "\n",
      "\n",
      "\n",
      "Training:\n",
      "\tLoss:\t0.10267\n",
      "\tMAE:\t2999.29065\n",
      "\n",
      "\n",
      "\n",
      "Validation:\n",
      "\tLoss:\t0.12212\n",
      "\tMAE:\t3255.45463\n",
      "\n",
      "\n",
      "\n",
      "Training:\n",
      "\tLoss:\t0.10210\n",
      "\tMAE:\t3055.26672\n",
      "\n",
      "\n",
      "\n",
      "Validation:\n",
      "\tLoss:\t0.10508\n",
      "\tMAE:\t3016.89870\n",
      "\n",
      "\n",
      "\n",
      "Training:\n",
      "\tLoss:\t0.09637\n",
      "\tMAE:\t3014.70651\n",
      "\n",
      "\n",
      "\n",
      "Validation:\n",
      "\tLoss:\t0.09607\n",
      "\tMAE:\t2951.84038\n",
      "\n",
      "\n",
      "\n",
      "Training:\n",
      "\tLoss:\t0.10514\n",
      "\tMAE:\t3031.87787\n",
      "\n",
      "\n",
      "\n",
      "Validation:\n",
      "\tLoss:\t0.10291\n",
      "\tMAE:\t3143.27851\n",
      "\n",
      "\n",
      "\n",
      "Training:\n",
      "\tLoss:\t0.10491\n",
      "\tMAE:\t3028.75036\n",
      "\n",
      "\n",
      "\n",
      "Validation:\n",
      "\tLoss:\t0.13828\n",
      "\tMAE:\t3470.58481\n",
      "\n",
      "\n",
      "\n",
      "Training:\n",
      "\tLoss:\t0.10955\n",
      "\tMAE:\t3144.36733\n",
      "\n",
      "\n",
      "\n",
      "Validation:\n",
      "\tLoss:\t0.09741\n",
      "\tMAE:\t3012.55165\n",
      "\n",
      "\n",
      "\n",
      "Training:\n",
      "\tLoss:\t0.11074\n",
      "\tMAE:\t3079.73824\n",
      "\n",
      "\n",
      "\n",
      "Validation:\n",
      "\tLoss:\t0.11936\n",
      "\tMAE:\t3491.30968\n",
      "\n",
      "\n",
      "\n",
      "Training:\n",
      "\tLoss:\t0.09654\n",
      "\tMAE:\t2962.77934\n",
      "\n",
      "\n",
      "\n",
      "Validation:\n",
      "\tLoss:\t0.09829\n",
      "\tMAE:\t2944.10526\n",
      "\n",
      "\n",
      "\n",
      "Training:\n",
      "\tLoss:\t0.09386\n",
      "\tMAE:\t2932.15060\n",
      "\n",
      "\n",
      "\n",
      "Validation:\n",
      "\tLoss:\t0.10048\n",
      "\tMAE:\t2953.18243\n",
      "\n",
      "\n",
      "\n"
     ]
    }
   ],
   "source": [
    "class TitleEncoder(nn.Module):\n",
    "    def __init__(self, n_tokens=len(tokens), out_size=64):\n",
    "        \"\"\" \n",
    "        A simple sequential encoder for titles.\n",
    "        x -> emb -> conv -> global_max -> relu -> dense\n",
    "        \"\"\"\n",
    "        super(TitleEncoder, self).__init__()\n",
    "        self.emb = nn.Embedding(n_tokens, out_size, padding_idx=PAD_IX)\n",
    "        self.conv1 = nn.Conv1d(out_size, out_size, kernel_size=3, padding=1)\n",
    "        self.pool1 = GlobalMaxPooling()        \n",
    "        self.dense = nn.Linear(out_size, out_size)\n",
    "\n",
    "        # Added batch norm and dropout, SOLVED\n",
    "        self.bn = nn.BatchNorm1d(out_size)\n",
    "        self.dropout = nn.Dropout(p=0.2)\n",
    "\n",
    "    def forward(self, text_ix):\n",
    "        \"\"\"\n",
    "        :param text_ix: int64 Variable of shape [batch_size, max_len]\n",
    "        :returns: float32 Variable of shape [batch_size, out_size]\n",
    "        \"\"\"\n",
    "        h = self.emb(text_ix)\n",
    "\n",
    "        # we transpose from [batch, time, units] to [batch, units, time] to fit Conv1d dim order\n",
    "        h = torch.transpose(h, 1, 2)\n",
    "        \n",
    "        # Apply the layers as defined above. Add some ReLUs before dense.\n",
    "        return self.dense(F.relu(self.dropout(self.pool1(self.bn(self.conv1(h))))))\n",
    "\n",
    "# Define an encoder for job descriptions.\n",
    "# Use any means you want so long as it's torch.nn.Module.\n",
    "\n",
    "class DescriptionEncoder(TitleEncoder):\n",
    "    def __init__(self, n_tokens=len(tokens), out_size=64):\n",
    "        super(DescriptionEncoder, self).__init__(n_tokens, out_size)\n",
    "\n",
    "\n",
    "class FullNetwork(nn.Module):\n",
    "    \"\"\"\n",
    "    This class does all the steps from (title, desc, categorical) features -> predicted target\n",
    "    It unites title & desc encoders you defined above as long as some layers for head and categorical branch.\n",
    "    \"\"\"\n",
    "    \n",
    "    def __init__(self, n_tokens=len(tokens), n_cat_features=len(categorical_vectorizer.vocabulary_)):\n",
    "        super(self.__class__, self).__init__()\n",
    "        \n",
    "        self.title_encoder = TitleEncoder(n_tokens=n_tokens, out_size=64)\n",
    "        self.desc_encoder = DescriptionEncoder(n_tokens=n_tokens, out_size=64)\n",
    "\n",
    "        k0, k1, k2 = [64, 8, 32]\n",
    "\n",
    "        # define layers for categorical features. A few dense layers would do.\n",
    "        self.categorial_encoder = \\\n",
    "            nn.Sequential(\n",
    "                nn.Linear(n_cat_features, k0),\n",
    "                nn.ReLU(),\n",
    "                nn.Linear(k0, k1)\n",
    "            )\n",
    "        \n",
    "        # define \"output\" layers that process depend the three encoded vectors into answer\n",
    "        self.output = \\\n",
    "            nn.Sequential(\n",
    "                nn.Linear(2 * k0 + k1, k2),\n",
    "                nn.ReLU(),\n",
    "                nn.Linear(k2, 1)\n",
    "            )\n",
    "            \n",
    "        \n",
    "    def forward(self, title_ix, desc_ix, cat_features):\n",
    "        \"\"\"\n",
    "        :param title_ix: int32 Variable [batch, title_len], job titles encoded by as_matrix\n",
    "        :param desc_ix:  int32 Variable [batch, desc_len] , job descriptions encoded by as_matrix\n",
    "        :param cat_features: float32 Variable [batch, n_cat_features]\n",
    "        :returns: float32 Variable 1d [batch], predicted log1p-salary\n",
    "        \"\"\"\n",
    "        \n",
    "        # process each data source with it's respective encoder\n",
    "        title_h = self.title_encoder(title_ix)\n",
    "        desc_h = self.desc_encoder(desc_ix) # SOLVED\n",
    "        \n",
    "        # apply categorical encoder\n",
    "        cat_h = self.categorial_encoder(cat_features) # SOLVED\n",
    "        \n",
    "        # concatenate all vectors together...\n",
    "        joint_h = torch.cat([title_h, desc_h, cat_h], dim=1)\n",
    "        \n",
    "        # ... and stack a few more layers at the top\n",
    "        res = self.output(joint_h)\n",
    "        \n",
    "        # Note 1: do not forget to select first columns, [:, 0], to get to 1d outputs\n",
    "        # Note 2: please do not use output nonlinearities.\n",
    "        \n",
    "        return res[:, 0]\n",
    "\n",
    "import sys\n",
    "\n",
    "num_epochs = 25\n",
    "\n",
    "for _ in range(num_epochs):\n",
    "    print(\"Training:\")\n",
    "    train_loss = train_mae = train_batches = 0    \n",
    "    model.train(True)\n",
    "    \n",
    "    for batch in iterate_minibatches(data_train, max_batches=batches_per_epoch):\n",
    "\n",
    "        title_ix = Variable(torch.LongTensor(batch[\"Title\"]))\n",
    "        desc_ix = Variable(torch.LongTensor(batch[\"FullDescription\"]))\n",
    "        cat_features = Variable(torch.FloatTensor(batch[\"Categorical\"]))\n",
    "        reference = Variable(torch.FloatTensor(batch[target_column]))\n",
    "\n",
    "        prediction = model(title_ix, desc_ix, cat_features)\n",
    "\n",
    "        loss = compute_loss(reference, prediction)\n",
    "        loss.backward()\n",
    "        opt.step()\n",
    "        opt.zero_grad()\n",
    "\n",
    "        train_loss += loss.data.numpy()\n",
    "        train_mae += compute_mae(reference, prediction).data.numpy()\n",
    "        train_batches += 1\n",
    "    \n",
    "    print(\"\\tLoss:\\t%.5f\" % (train_loss / train_batches))\n",
    "    print(\"\\tMAE:\\t%.5f\" % (train_mae / train_batches))\n",
    "    print('\\n\\n')\n",
    "    sys.stdout.flush()\n",
    "    \n",
    "    print(\"Validation:\")\n",
    "    val_loss = val_mae = val_batches = 0\n",
    "    model.train(False)\n",
    "    \n",
    "    with torch.no_grad():\n",
    "        for batch in iterate_minibatches(data_val, shuffle=False):\n",
    "            title_ix = Variable(torch.LongTensor(batch[\"Title\"]))\n",
    "            desc_ix = Variable(torch.LongTensor(batch[\"FullDescription\"]))\n",
    "            cat_features = Variable(torch.FloatTensor(batch[\"Categorical\"]))\n",
    "            reference = Variable(torch.FloatTensor(batch[target_column]))\n",
    "\n",
    "            prediction = model(title_ix, desc_ix, cat_features)\n",
    "            loss = compute_loss(reference, prediction)\n",
    "\n",
    "            val_loss += loss.data.numpy()\n",
    "            val_mae += compute_mae(reference, prediction).data.numpy()\n",
    "            val_batches += 1\n",
    "\n",
    "    print(\"\\tLoss:\\t%.5f\" % (val_loss / val_batches))\n",
    "    print(\"\\tMAE:\\t%.5f\" % (val_mae / val_batches))\n",
    "    print('\\n\\n')\n",
    "    sys.stdout.flush()"
   ]
  },
  {
   "cell_type": "markdown",
   "metadata": {},
   "source": [
    "### A short report\n",
    "\n",
    "Please tell us what you did and how did it work.\n",
    "\n",
    "I've just added dropout and batch normalization as suggested in the problem statement, and... it works fine! Well, at least, it performes better compared to the first implementation:\n",
    "\n",
    "w/o b/n and d/o: `3432.56432` MAE \\\n",
    "with b/n and d/o: `2953.18243` MAE"
   ]
  }
 ],
 "metadata": {
  "kernelspec": {
   "display_name": "Python 3",
   "language": "python",
   "name": "python3"
  },
  "language_info": {
   "codemirror_mode": {
    "name": "ipython",
    "version": 3
   },
   "file_extension": ".py",
   "mimetype": "text/x-python",
   "name": "python",
   "nbconvert_exporter": "python",
   "pygments_lexer": "ipython3",
   "version": "3.10.2 (v3.10.2:a58ebcc701, Jan 13 2022, 14:50:16) [Clang 13.0.0 (clang-1300.0.29.30)]"
  },
  "vscode": {
   "interpreter": {
    "hash": "949777d72b0d2535278d3dc13498b2535136f6dfe0678499012e853ee9abcab1"
   }
  }
 },
 "nbformat": 4,
 "nbformat_minor": 2
}
